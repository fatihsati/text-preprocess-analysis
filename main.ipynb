{
 "cells": [
  {
   "cell_type": "code",
   "execution_count": 5,
   "metadata": {},
   "outputs": [
    {
     "data": {
      "text/html": [
       "<div>\n",
       "<style scoped>\n",
       "    .dataframe tbody tr th:only-of-type {\n",
       "        vertical-align: middle;\n",
       "    }\n",
       "\n",
       "    .dataframe tbody tr th {\n",
       "        vertical-align: top;\n",
       "    }\n",
       "\n",
       "    .dataframe thead th {\n",
       "        text-align: right;\n",
       "    }\n",
       "</style>\n",
       "<table border=\"1\" class=\"dataframe\">\n",
       "  <thead>\n",
       "    <tr style=\"text-align: right;\">\n",
       "      <th></th>\n",
       "      <th>Text</th>\n",
       "      <th>Emotion</th>\n",
       "    </tr>\n",
       "  </thead>\n",
       "  <tbody>\n",
       "    <tr>\n",
       "      <th>0</th>\n",
       "      <td>i didnt feel humiliated</td>\n",
       "      <td>sadness</td>\n",
       "    </tr>\n",
       "    <tr>\n",
       "      <th>1</th>\n",
       "      <td>i can go from feeling so hopeless to so damned...</td>\n",
       "      <td>sadness</td>\n",
       "    </tr>\n",
       "    <tr>\n",
       "      <th>2</th>\n",
       "      <td>im grabbing a minute to post i feel greedy wrong</td>\n",
       "      <td>anger</td>\n",
       "    </tr>\n",
       "    <tr>\n",
       "      <th>3</th>\n",
       "      <td>i am ever feeling nostalgic about the fireplac...</td>\n",
       "      <td>love</td>\n",
       "    </tr>\n",
       "    <tr>\n",
       "      <th>4</th>\n",
       "      <td>i am feeling grouchy</td>\n",
       "      <td>anger</td>\n",
       "    </tr>\n",
       "  </tbody>\n",
       "</table>\n",
       "</div>"
      ],
      "text/plain": [
       "                                                Text  Emotion\n",
       "0                            i didnt feel humiliated  sadness\n",
       "1  i can go from feeling so hopeless to so damned...  sadness\n",
       "2   im grabbing a minute to post i feel greedy wrong    anger\n",
       "3  i am ever feeling nostalgic about the fireplac...     love\n",
       "4                               i am feeling grouchy    anger"
      ]
     },
     "execution_count": 5,
     "metadata": {},
     "output_type": "execute_result"
    }
   ],
   "source": [
    "import pandas as pd\n",
    "\n",
    "df = pd.read_csv('Emotion_final.csv')\n",
    "df.head()"
   ]
  },
  {
   "cell_type": "code",
   "execution_count": 2,
   "metadata": {},
   "outputs": [
    {
     "data": {
      "text/plain": [
       "happy       7029\n",
       "sadness     6265\n",
       "anger       2993\n",
       "fear        2652\n",
       "love        1641\n",
       "surprise     879\n",
       "Name: Emotion, dtype: int64"
      ]
     },
     "execution_count": 2,
     "metadata": {},
     "output_type": "execute_result"
    }
   ],
   "source": [
    "df['Emotion'].value_counts()"
   ]
  },
  {
   "cell_type": "code",
   "execution_count": 6,
   "metadata": {},
   "outputs": [
    {
     "name": "stderr",
     "output_type": "stream",
     "text": [
      "[nltk_data] Downloading package wordnet to\n",
      "[nltk_data]     C:\\Users\\Asus\\AppData\\Roaming\\nltk_data...\n",
      "[nltk_data]   Package wordnet is already up-to-date!\n",
      "[nltk_data] Downloading package omw-1.4 to\n",
      "[nltk_data]     C:\\Users\\Asus\\AppData\\Roaming\\nltk_data...\n",
      "[nltk_data]   Package omw-1.4 is already up-to-date!\n"
     ]
    }
   ],
   "source": [
    "# import packages for text processing\n",
    "import nltk\n",
    "nltk.download('wordnet')\n",
    "nltk.download('omw-1.4')\n",
    "from nltk.corpus import stopwords\n",
    "from nltk.stem import PorterStemmer\n",
    "from nltk.stem import WordNetLemmatizer\n",
    "import re \n",
    "\n",
    "stopwords = stopwords.words('english')\n",
    "stemmer = PorterStemmer()\n",
    "lemmatizer = WordNetLemmatizer()"
   ]
  },
  {
   "cell_type": "code",
   "execution_count": 7,
   "metadata": {},
   "outputs": [
    {
     "name": "stdout",
     "output_type": "stream",
     "text": [
      "Stem:  run\n",
      "Lemma:  running\n"
     ]
    }
   ],
   "source": [
    "word = 'running'\n",
    "\n",
    "print(\"Stem: \", stemmer.stem(word))\n",
    "print(\"Lemma: \", lemmatizer.lemmatize(word))\n"
   ]
  },
  {
   "cell_type": "code",
   "execution_count": 8,
   "metadata": {},
   "outputs": [],
   "source": [
    "# write preprocessing function that will be applied to text data\n",
    "def process_text(text, technique):\n",
    "    # Lower: convert all characters to lowercase, will be applied to all techniques\n",
    "    text = text.lower()    \n",
    "    \n",
    "    # Lower: convert all characters to lowercase\n",
    "    if technique == \"Lower\":    \n",
    "        return text\n",
    "    \n",
    "    # remove punctuation and non-ascii characters\n",
    "    elif technique == \"Lower+Punct\":    \n",
    "        text = re.sub(r'[^\\w\\s]', '', text)     \n",
    "    \n",
    "    # remove punctuation and non-ascii characters\n",
    "    elif technique == \"Lower+Punct+Stop\":  \n",
    "        text = re.sub(r'[^\\w\\s]', '', text)     \n",
    "        text = \" \".join([word for word in text.split() if word not in stopwords])\n",
    "    \n",
    "    # remove punctuation and non-ascii characters\n",
    "    elif technique == \"Lower+Punct+Stop+Stem\":\n",
    "        text = re.sub(r'[^\\w\\s]', '', text)    \n",
    "        text = \" \".join([stemmer.stem(word) for word in text.split() if word not in stopwords])\n",
    "    \n",
    "    # remove punctuation and non-ascii characters\n",
    "    elif technique == \"Lower+Punct+Stop+Lemmatize\":\n",
    "        text = re.sub(r'[^\\w\\s]', '', text)     \n",
    "        text = \" \".join([lemmatizer.lemmatize(word) for word in text.split() if word not in stopwords]) \n",
    "    \n",
    "    return text"
   ]
  },
  {
   "cell_type": "code",
   "execution_count": 9,
   "metadata": {},
   "outputs": [
    {
     "name": "stdout",
     "output_type": "stream",
     "text": [
      "Original sentence:  Hey! i am experiencing the effects of preprocessing.\n",
      "\n",
      "Lower : hey! i am experiencing the effects of preprocessing.\n",
      "Lower+Punct : hey i am experiencing the effects of preprocessing\n",
      "Lower+Punct+Stop : hey experiencing effects preprocessing\n",
      "Lower+Punct+Stop+Stem : hey experienc effect preprocess\n",
      "Lower+Punct+Stop+Lemmatize : hey experiencing effect preprocessing\n"
     ]
    }
   ],
   "source": [
    "preprocessing_techniques = [\"Lower\", \"Lower+Punct\", \"Lower+Punct+Stop\", \"Lower+Punct+Stop+Stem\", \"Lower+Punct+Stop+Lemmatize\"]\n",
    "\n",
    "sentence = \"Hey! i am experiencing the effects of preprocessing.\"\n",
    "print(\"Original sentence: \", sentence)\n",
    "print() # empty line\n",
    "for prep_tech in preprocessing_techniques:\n",
    "    print(prep_tech, \":\", process_text(sentence, prep_tech))"
   ]
  },
  {
   "cell_type": "code",
   "execution_count": 15,
   "metadata": {},
   "outputs": [],
   "source": [
    "# import packages for model training\n",
    "from sklearn.model_selection import train_test_split\n",
    "from sklearn.model_selection import cross_val_score\n",
    "from sklearn.model_selection import StratifiedKFold\n",
    "from sklearn.feature_extraction.text import CountVectorizer\n",
    "from sklearn.feature_extraction.text import TfidfVectorizer\n",
    "from sklearn.naive_bayes import MultinomialNB\n",
    "import fasttext\n",
    "import numpy as np\n"
   ]
  },
  {
   "cell_type": "code",
   "execution_count": 4,
   "metadata": {},
   "outputs": [
    {
     "data": {
      "text/html": [
       "<div>\n",
       "<style scoped>\n",
       "    .dataframe tbody tr th:only-of-type {\n",
       "        vertical-align: middle;\n",
       "    }\n",
       "\n",
       "    .dataframe tbody tr th {\n",
       "        vertical-align: top;\n",
       "    }\n",
       "\n",
       "    .dataframe thead th {\n",
       "        text-align: right;\n",
       "    }\n",
       "</style>\n",
       "<table border=\"1\" class=\"dataframe\">\n",
       "  <thead>\n",
       "    <tr style=\"text-align: right;\">\n",
       "      <th></th>\n",
       "      <th>Text</th>\n",
       "      <th>Emotion</th>\n",
       "    </tr>\n",
       "  </thead>\n",
       "  <tbody>\n",
       "    <tr>\n",
       "      <th>0</th>\n",
       "      <td>didnt feel humiliated</td>\n",
       "      <td>sadness</td>\n",
       "    </tr>\n",
       "    <tr>\n",
       "      <th>1</th>\n",
       "      <td>go feeling hopeless damned hopeful around some...</td>\n",
       "      <td>sadness</td>\n",
       "    </tr>\n",
       "    <tr>\n",
       "      <th>2</th>\n",
       "      <td>im grabbing minute post feel greedy wrong</td>\n",
       "      <td>anger</td>\n",
       "    </tr>\n",
       "    <tr>\n",
       "      <th>3</th>\n",
       "      <td>ever feeling nostalgic fireplace know still pr...</td>\n",
       "      <td>love</td>\n",
       "    </tr>\n",
       "    <tr>\n",
       "      <th>4</th>\n",
       "      <td>feeling grouchy</td>\n",
       "      <td>anger</td>\n",
       "    </tr>\n",
       "    <tr>\n",
       "      <th>...</th>\n",
       "      <td>...</td>\n",
       "      <td>...</td>\n",
       "    </tr>\n",
       "    <tr>\n",
       "      <th>21454</th>\n",
       "      <td>melissa stared friend dism</td>\n",
       "      <td>fear</td>\n",
       "    </tr>\n",
       "    <tr>\n",
       "      <th>21455</th>\n",
       "      <td>successive state elections seen governing part...</td>\n",
       "      <td>fear</td>\n",
       "    </tr>\n",
       "    <tr>\n",
       "      <th>21456</th>\n",
       "      <td>vincent irritated dismay</td>\n",
       "      <td>fear</td>\n",
       "    </tr>\n",
       "    <tr>\n",
       "      <th>21457</th>\n",
       "      <td>kendallhume turned back face dismayed coup</td>\n",
       "      <td>fear</td>\n",
       "    </tr>\n",
       "    <tr>\n",
       "      <th>21458</th>\n",
       "      <td>dismayed surpris</td>\n",
       "      <td>fear</td>\n",
       "    </tr>\n",
       "  </tbody>\n",
       "</table>\n",
       "<p>21459 rows × 2 columns</p>\n",
       "</div>"
      ],
      "text/plain": [
       "                                                    Text  Emotion\n",
       "0                                  didnt feel humiliated  sadness\n",
       "1      go feeling hopeless damned hopeful around some...  sadness\n",
       "2              im grabbing minute post feel greedy wrong    anger\n",
       "3      ever feeling nostalgic fireplace know still pr...     love\n",
       "4                                        feeling grouchy    anger\n",
       "...                                                  ...      ...\n",
       "21454                         melissa stared friend dism     fear\n",
       "21455  successive state elections seen governing part...     fear\n",
       "21456                           vincent irritated dismay     fear\n",
       "21457         kendallhume turned back face dismayed coup     fear\n",
       "21458                                   dismayed surpris     fear\n",
       "\n",
       "[21459 rows x 2 columns]"
      ]
     },
     "execution_count": 4,
     "metadata": {},
     "output_type": "execute_result"
    }
   ],
   "source": [
    "# apply preprocessing function to text data\n",
    "# use Lower+Punct technique\n",
    "import pandas as pd\n",
    "preprocessing_technique = \"Lower+Punct+Stop\"\n",
    "df = pd.read_csv('Emotion_final.csv')\n",
    "df['Text'] = df['Text'].apply(lambda x: process_text(x, preprocessing_technique))\n",
    "df"
   ]
  },
  {
   "cell_type": "code",
   "execution_count": 12,
   "metadata": {},
   "outputs": [],
   "source": [
    "# write a function for Naive Bayes\n",
    "\n",
    "def cross_val_for_naive_bayes(preprocessed_df):\n",
    "    \"\"\"df: dataframe that contains text and category columns\"\"\"\n",
    "    \n",
    "    vectorizer = CountVectorizer(analyzer='word', max_features=10000)   # initialize vectorizer\n",
    "    X = vectorizer.fit_transform(preprocessed_df['Text'])    # fit and transform text data\n",
    "    \n",
    "    X = X.toarray()    # convert sparse matrix to numpy array\n",
    "    y = preprocessed_df['Emotion']    # get target values\n",
    "\n",
    "    # initialize model\n",
    "    model = MultinomialNB()\n",
    "    \n",
    "    scores = cross_val_score(model, X, y, cv=5, scoring='f1_macro')    # get cross validation scores\n",
    "    return scores   # return scores\n",
    "\n",
    "# scores = cross_val_for_naive_bayes(df)\n",
    "# print(preprocessing_technique)\n",
    "# print(scores)\n",
    "# print(\"Mean score: \", np.mean(scores))\n",
    "    "
   ]
  },
  {
   "cell_type": "code",
   "execution_count": 13,
   "metadata": {},
   "outputs": [],
   "source": [
    "def cross_val_for_fasttext(preprocessed_df):\n",
    "    \"\"\"split dataset into 5 folds and train fasttext model on each fold\"\"\"\n",
    "    \n",
    "    preprocessed_df['Emotion'] = '__label__' + preprocessed_df['Emotion'].astype(str)    # add label prefix to target values\n",
    "\n",
    "    kfold = StratifiedKFold(n_splits=5, shuffle=True, random_state=42)    # initialize kfold\n",
    "    scores = []    # initialize list for storing scores\n",
    "    for train_index, test_index in kfold.split(preprocessed_df['Text'], preprocessed_df['Emotion']):\n",
    "        train_df = preprocessed_df.iloc[train_index]    # get train data\n",
    "        test_df = preprocessed_df.iloc[test_index]    # get test data\n",
    "        \n",
    "        # write train and test data to txt files\n",
    "        train_df[['Emotion', 'Text']].to_csv('train.txt', sep='\\t', index=False, header=False)\n",
    "        test_df[['Emotion', 'Text']].to_csv('test.txt', sep='\\t', index=False, header=False)\n",
    "\n",
    "        # train fasttext model\n",
    "        model = fasttext.train_supervised(input='train.txt')\n",
    "        N, precision, recall = model.test('test.txt')    # get test results\n",
    "        F1 = 2 * (precision * recall) / (precision + recall)\n",
    "        scores.append(F1)    # append F1 score to scores list\n",
    "    \n",
    "    return scores    # return mean f1 score\n",
    "        \n",
    "# scores = cross_val_for_fasttext(df) \n",
    "# print(preprocessing_technique)\n",
    "# print(scores)\n",
    "# print(\"Mean Score: \", sum(scores)/len(scores))"
   ]
  },
  {
   "cell_type": "code",
   "execution_count": 16,
   "metadata": {},
   "outputs": [
    {
     "name": "stdout",
     "output_type": "stream",
     "text": [
      "Running for  Lower  technique\n",
      "Naive Bayes:  [0.66061798 0.64907909 0.65701512 0.66514546 0.55232819]\n",
      "Fasttext:  [0.7991612301957131, 0.7735321528424977, 0.798695246971109, 0.7749301025163093, 0.8005127010020974]\n",
      "Running for  Lower+Punct  technique\n",
      "Naive Bayes:  [0.65932982 0.64570134 0.65555685 0.66696091 0.55643898]\n",
      "Fasttext:  [0.8133737185461324, 0.8219944082013048, 0.8299161230195713, 0.8189655172413793, 0.8170589606152412]\n",
      "Running for  Lower+Punct+Stop  technique\n",
      "Naive Bayes:  [0.69290513 0.68123422 0.69442958 0.70765521 0.58466874]\n",
      "Fasttext:  [0.8837371854613234, 0.8795433364398881, 0.8793103448275863, 0.8718546132339235, 0.874621300396178]\n",
      "Running for  Lower+Punct+Stop+Stem  technique\n",
      "Naive Bayes:  [0.63509757 0.61722161 0.62770672 0.64075915 0.5583999 ]\n",
      "Fasttext:  [0.8548462255358807, 0.8417986952469712, 0.8404007455731594, 0.8485554520037278, 0.8524819389419717]\n",
      "Running for  Lower+Punct+Stop+Lemmatize  technique\n",
      "Naive Bayes:  [0.68768962 0.68485497 0.69896011 0.70120572 0.57959099]\n",
      "Fasttext:  [0.8832712022367196, 0.880708294501398, 0.874883504193849, 0.8765144454799627, 0.8769517594966209]\n",
      "[0.6368371676314527, 0.6367975810870289, 0.6721785758412664, 0.6158369911326016, 0.6704602832940874]\n",
      "[0.7893662867055454, 0.8202617455247259, 0.8778133560717798, 0.8476166114603421, 0.8784658411817101]\n"
     ]
    }
   ],
   "source": [
    "# write main function which will run all preprocessing techniques and models\n",
    "\n",
    "# initialize lists for storing scores\n",
    "naive_bayes_scores = []\n",
    "fasttext_scores = []\n",
    "\n",
    "# iterate over each preprocessing technique\n",
    "for technique in preprocessing_techniques:\n",
    "    print(\"Running for \", technique, \" technique\")\n",
    "    df = pd.read_csv('Emotion_final.csv')   # read data from csv file\n",
    "    df['Text'] = df['Text'].apply(lambda x: process_text(x, technique))    # preprocess text data\n",
    "    \n",
    "    # get scores for each model\n",
    "    naive_bayes_cross_val_scores = cross_val_for_naive_bayes(df)\n",
    "    naive_bayes_scores.append(np.mean(naive_bayes_cross_val_scores))\n",
    "    print(\"Naive Bayes: \", naive_bayes_cross_val_scores)\n",
    "    \n",
    "    \n",
    "    fasttext_cross_val_scores = cross_val_for_fasttext(df)\n",
    "    fasttext_scores.append(sum(fasttext_cross_val_scores)/len(fasttext_cross_val_scores))\n",
    "    print(\"Fasttext: \", fasttext_cross_val_scores)\n",
    "\n",
    "# plot scores for each model\n",
    "print(naive_bayes_scores)\n",
    "print(fasttext_scores)"
   ]
  },
  {
   "cell_type": "code",
   "execution_count": 18,
   "metadata": {},
   "outputs": [
    {
     "data": {
      "image/png": "[encoded data removed]",
      "text/plain": [
       "<Figure size 640x480 with 1 Axes>"
      ]
     },
     "metadata": {},
     "output_type": "display_data"
    }
   ],
   "source": [
    "import matplotlib.pyplot as plt\n",
    "\n",
    "plt.plot(preprocessing_techniques, naive_bayes_scores, marker='o', label='Naive Bayes')\n",
    "plt.plot(preprocessing_techniques, fasttext_scores, marker='o', label='fastText')\n",
    "# plt.xlabel(\"Preprocessing Technique\")\n",
    "plt.ylabel(\"F1-Mean Score\")\n",
    "plt.xticks(rotation=60)\n",
    "plt.legend()\n",
    "plt.show()"
   ]
  }
 ],
 "metadata": {
  "kernelspec": {
   "display_name": "Python 3",
   "language": "python",
   "name": "python3"
  },
  "language_info": {
   "codemirror_mode": {
    "name": "ipython",
    "version": 3
   },
   "file_extension": ".py",
   "mimetype": "text/x-python",
   "name": "python",
   "nbconvert_exporter": "python",
   "pygments_lexer": "ipython3",
   "version": "3.9.9"
  },
  "orig_nbformat": 4
 },
 "nbformat": 4,
 "nbformat_minor": 2
}
